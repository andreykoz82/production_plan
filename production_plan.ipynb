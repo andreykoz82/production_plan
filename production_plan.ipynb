{
 "cells": [
  {
   "metadata": {},
   "cell_type": "markdown",
   "source": "# РАСЧЕТ ПЛАНА ПРОИЗВОДСТВА НА 2024 г.",
   "id": "df60e4454e203476"
  },
  {
   "metadata": {
    "ExecuteTime": {
     "end_time": "2024-10-02T13:27:30.077165Z",
     "start_time": "2024-10-02T13:27:29.338122Z"
    }
   },
   "cell_type": "code",
   "source": "import pandas as pd",
   "id": "9fe1e258d20463da",
   "outputs": [],
   "execution_count": 1
  },
  {
   "metadata": {},
   "cell_type": "markdown",
   "source": "## Загрузка исходных данных для расчета",
   "id": "b5b6230936d120d9"
  },
  {
   "metadata": {
    "ExecuteTime": {
     "end_time": "2024-10-02T13:27:31.630450Z",
     "start_time": "2024-10-02T13:27:31.082818Z"
    }
   },
   "cell_type": "code",
   "source": [
    "actual_items = pd.read_excel('data/actual_items.xlsx')\n",
    "current_stocks = pd.read_excel('data/stocks.xlsx') # Остатки на 30.09.2024\n",
    "current_stocks['item'] = current_stocks['item'].str.replace(', шт', '')\n",
    "current_stocks.fillna(0, inplace=True)\n",
    "current_stocks['stock_level'] = current_stocks['stock_level'].astype('int')\n",
    "production_fact = pd.read_excel('data/production_fact.xlsx')\n",
    "sales_plan = pd.read_excel('data/sales_plan_fc3.xlsx')"
   ],
   "id": "d1e3073b52e47e1c",
   "outputs": [],
   "execution_count": 2
  },
  {
   "metadata": {
    "ExecuteTime": {
     "end_time": "2024-10-02T13:27:32.569335Z",
     "start_time": "2024-10-02T13:27:32.550033Z"
    }
   },
   "cell_type": "code",
   "source": [
    "month_mapping = {'Январь': 1, 'Февраль': 2, 'Март': 3, 'Апрель': 4, 'Май': 5, 'Июнь': 6, 'Июль': 7,\n",
    "                            'Август': 8, 'Сентябрь': 9, 'Октябрь': 10, 'Ноябрь': 11, 'Декабрь': 12, }\n",
    "month = sales_plan['date'].str.replace(' г.', \"\").str.split(' ', expand=True)[0].map(month_mapping)\n",
    "year = sales_plan['date'].str.replace(' г.', \"\").str.split(' ', expand=True)[1]\n",
    "temp = month.to_frame().join(year)\n",
    "temp[0] = temp[0].astype('str')\n",
    "temp[1] = temp[1].astype('str')\n",
    "temp['date'] = temp[0] + '-' + temp[1]\n",
    "temp['date'] = pd.to_datetime(temp['date'], format=\"%m-%Y\")\n",
    "sales_plan['date'] = temp['date']"
   ],
   "id": "6d327c97b4d92f06",
   "outputs": [],
   "execution_count": 3
  },
  {
   "metadata": {},
   "cell_type": "markdown",
   "source": "## Расчет плана производства",
   "id": "f668fcba7ea4c4a1"
  },
  {
   "metadata": {
    "ExecuteTime": {
     "end_time": "2024-10-02T13:27:37.214447Z",
     "start_time": "2024-10-02T13:27:37.208597Z"
    }
   },
   "cell_type": "code",
   "source": [
    "def calculate_production(actual_items, stocks, sales_plan, safety_level=41, working_days=20, start_date=\"2024-10-01\"):\n",
    "    production_plan = {}\n",
    "    actual_items = actual_items['item'].to_list()\n",
    "    sales_plan = sales_plan.query('date == @start_date')\n",
    "    for x in actual_items:\n",
    "        if x in stocks['item'].to_list():\n",
    "            stock_level = stocks.query('item == @x')['stock_level'].tolist()[0]\n",
    "        else: \n",
    "            stock_level = 0\n",
    "        if x in sales_plan['item'].to_list():\n",
    "            sales_quantity = sales_plan.query('item == @x')['quantity'].tolist()[0]\n",
    "        else:\n",
    "            sales_quantity = 1\n",
    "        sales_per_day = sales_quantity / working_days\n",
    "        if (stock_level / sales_per_day - safety_level) >0:\n",
    "            production_plan[x] = 0\n",
    "        else:\n",
    "            production_plan[x] = round((safety_level -stock_level / sales_per_day) * sales_per_day, -3)\n",
    "    return production_plan"
   ],
   "id": "105cab2d86b6d6d6",
   "outputs": [],
   "execution_count": 4
  },
  {
   "metadata": {
    "ExecuteTime": {
     "end_time": "2024-10-02T13:27:38.033193Z",
     "start_time": "2024-10-02T13:27:38.026552Z"
    }
   },
   "cell_type": "code",
   "source": [
    "def calculate_stocks(actual_items, stocks, sales_plan, production_plan, start_date=\"2024-10-01\"):\n",
    "    sales_plan = sales_plan.query('date == @start_date')\n",
    "    df = (actual_items\n",
    "          .merge(stocks, how='left', on='item')\n",
    "          .merge(sales_plan, how='left', on='item')\n",
    "          .merge(production_plan, how='left', on='item'))\n",
    "    df['stock_level'] = df['stock_level'] + df['production_volume'] - df['quantity']\n",
    "    return df[['item', 'stock_level']]"
   ],
   "id": "fe215022c5a48b20",
   "outputs": [],
   "execution_count": 5
  },
  {
   "metadata": {
    "ExecuteTime": {
     "end_time": "2024-10-02T13:32:17.071707Z",
     "start_time": "2024-10-02T13:32:16.246044Z"
    }
   },
   "cell_type": "code",
   "source": [
    "planning_period = ['2024-10-01', '2024-11-01', '2024-12-01']\n",
    "safety_level = [41, 40, 39]\n",
    "production_plan = {}\n",
    "stocks = current_stocks\n",
    "planning_stocks = []\n",
    "for period, level in zip(planning_period, safety_level):\n",
    "    plan = calculate_production(actual_items, stocks, sales_plan, safety_level=level, start_date=period)\n",
    "    production_plan[period] = plan\n",
    "    plan = pd.DataFrame.from_dict([plan]).T.reset_index().rename(columns={'index':'item', 0:'production_volume'})\n",
    "    new_stocks = calculate_stocks(actual_items, stocks, sales_plan, plan, start_date=period)\n",
    "    planning_stocks.append(new_stocks)\n",
    "    stocks = new_stocks"
   ],
   "id": "640eebee7191bcab",
   "outputs": [],
   "execution_count": 16
  },
  {
   "metadata": {},
   "cell_type": "markdown",
   "source": "## ИТОГОВЫЙ ПЛАН ПРОИЗВОДСТВА",
   "id": "926afaa00d5eeaf"
  },
  {
   "metadata": {
    "ExecuteTime": {
     "end_time": "2024-10-02T13:33:47.477718Z",
     "start_time": "2024-10-02T13:33:47.465258Z"
    }
   },
   "cell_type": "code",
   "source": [
    "final_production_plan = pd.DataFrame(production_plan).reset_index().rename(columns={'index':'item'})\n",
    "final_production_plan.head()"
   ],
   "id": "51bd22c0449ceb8c",
   "outputs": [
    {
     "data": {
      "text/plain": [
       "                              item  2024-10-01  2024-11-01  2024-12-01\n",
       "0                Аир корневища 75г     10000.0      6000.0      9000.0\n",
       "1                  Алтей корни 75г      9000.0      4000.0      7000.0\n",
       "2    Багульник болотный побеги 50г      3000.0     15000.0      7000.0\n",
       "3                 Береза почки 50г     15000.0     11000.0     12000.0\n",
       "4  Бессмертник песчаный цветки 30г     34000.0     28000.0     40000.0"
      ],
      "text/html": [
       "<div>\n",
       "<style scoped>\n",
       "    .dataframe tbody tr th:only-of-type {\n",
       "        vertical-align: middle;\n",
       "    }\n",
       "\n",
       "    .dataframe tbody tr th {\n",
       "        vertical-align: top;\n",
       "    }\n",
       "\n",
       "    .dataframe thead th {\n",
       "        text-align: right;\n",
       "    }\n",
       "</style>\n",
       "<table border=\"1\" class=\"dataframe\">\n",
       "  <thead>\n",
       "    <tr style=\"text-align: right;\">\n",
       "      <th></th>\n",
       "      <th>item</th>\n",
       "      <th>2024-10-01</th>\n",
       "      <th>2024-11-01</th>\n",
       "      <th>2024-12-01</th>\n",
       "    </tr>\n",
       "  </thead>\n",
       "  <tbody>\n",
       "    <tr>\n",
       "      <th>0</th>\n",
       "      <td>Аир корневища 75г</td>\n",
       "      <td>10000.0</td>\n",
       "      <td>6000.0</td>\n",
       "      <td>9000.0</td>\n",
       "    </tr>\n",
       "    <tr>\n",
       "      <th>1</th>\n",
       "      <td>Алтей корни 75г</td>\n",
       "      <td>9000.0</td>\n",
       "      <td>4000.0</td>\n",
       "      <td>7000.0</td>\n",
       "    </tr>\n",
       "    <tr>\n",
       "      <th>2</th>\n",
       "      <td>Багульник болотный побеги 50г</td>\n",
       "      <td>3000.0</td>\n",
       "      <td>15000.0</td>\n",
       "      <td>7000.0</td>\n",
       "    </tr>\n",
       "    <tr>\n",
       "      <th>3</th>\n",
       "      <td>Береза почки 50г</td>\n",
       "      <td>15000.0</td>\n",
       "      <td>11000.0</td>\n",
       "      <td>12000.0</td>\n",
       "    </tr>\n",
       "    <tr>\n",
       "      <th>4</th>\n",
       "      <td>Бессмертник песчаный цветки 30г</td>\n",
       "      <td>34000.0</td>\n",
       "      <td>28000.0</td>\n",
       "      <td>40000.0</td>\n",
       "    </tr>\n",
       "  </tbody>\n",
       "</table>\n",
       "</div>"
      ]
     },
     "execution_count": 21,
     "metadata": {},
     "output_type": "execute_result"
    }
   ],
   "execution_count": 21
  },
  {
   "metadata": {
    "ExecuteTime": {
     "end_time": "2024-10-02T13:41:08.610318Z",
     "start_time": "2024-10-02T13:41:08.604309Z"
    }
   },
   "cell_type": "code",
   "source": "sales_by_month = sales_plan.groupby(by='date').sum().quantity.reset_index()",
   "id": "a7efc22d4aba747b",
   "outputs": [],
   "execution_count": 45
  },
  {
   "metadata": {
    "ExecuteTime": {
     "end_time": "2024-10-02T13:42:19.723460Z",
     "start_time": "2024-10-02T13:42:19.714523Z"
    }
   },
   "cell_type": "code",
   "source": [
    "production_plan_by_month = final_production_plan.sum().drop('item',axis=0).reset_index().rename(columns={'index':'date', 0:'production_volume'})\n",
    "production_plan_by_month['date'] = pd.to_datetime(production_plan_by_month['date'])"
   ],
   "id": "af88a11906d4b5df",
   "outputs": [],
   "execution_count": 48
  },
  {
   "metadata": {
    "ExecuteTime": {
     "end_time": "2024-10-02T13:42:26.523946Z",
     "start_time": "2024-10-02T13:42:26.514716Z"
    }
   },
   "cell_type": "code",
   "source": "production_plan_by_month.merge(sales_by_month, how='left', on='date')",
   "id": "b6ddfb82e4b857ba",
   "outputs": [
    {
     "data": {
      "text/plain": [
       "        date production_volume  quantity\n",
       "0 2024-10-01         3954000.0   3907610\n",
       "1 2024-11-01         4023000.0   4114324\n",
       "2 2024-12-01         4318000.0   4336553"
      ],
      "text/html": [
       "<div>\n",
       "<style scoped>\n",
       "    .dataframe tbody tr th:only-of-type {\n",
       "        vertical-align: middle;\n",
       "    }\n",
       "\n",
       "    .dataframe tbody tr th {\n",
       "        vertical-align: top;\n",
       "    }\n",
       "\n",
       "    .dataframe thead th {\n",
       "        text-align: right;\n",
       "    }\n",
       "</style>\n",
       "<table border=\"1\" class=\"dataframe\">\n",
       "  <thead>\n",
       "    <tr style=\"text-align: right;\">\n",
       "      <th></th>\n",
       "      <th>date</th>\n",
       "      <th>production_volume</th>\n",
       "      <th>quantity</th>\n",
       "    </tr>\n",
       "  </thead>\n",
       "  <tbody>\n",
       "    <tr>\n",
       "      <th>0</th>\n",
       "      <td>2024-10-01</td>\n",
       "      <td>3954000.0</td>\n",
       "      <td>3907610</td>\n",
       "    </tr>\n",
       "    <tr>\n",
       "      <th>1</th>\n",
       "      <td>2024-11-01</td>\n",
       "      <td>4023000.0</td>\n",
       "      <td>4114324</td>\n",
       "    </tr>\n",
       "    <tr>\n",
       "      <th>2</th>\n",
       "      <td>2024-12-01</td>\n",
       "      <td>4318000.0</td>\n",
       "      <td>4336553</td>\n",
       "    </tr>\n",
       "  </tbody>\n",
       "</table>\n",
       "</div>"
      ]
     },
     "execution_count": 50,
     "metadata": {},
     "output_type": "execute_result"
    }
   ],
   "execution_count": 50
  },
  {
   "metadata": {},
   "cell_type": "markdown",
   "source": "## ИТОГОВЫЙ ЭКСПОРТ В EXCEL",
   "id": "231f4351b9efaf0c"
  },
  {
   "metadata": {
    "ExecuteTime": {
     "end_time": "2024-10-02T13:33:59.081660Z",
     "start_time": "2024-10-02T13:33:59.075648Z"
    }
   },
   "cell_type": "code",
   "source": "final = production_fact.merge(final_production_plan, how='left', on='item')",
   "id": "ffa4b90a0b3319b4",
   "outputs": [],
   "execution_count": 23
  },
  {
   "metadata": {
    "ExecuteTime": {
     "end_time": "2024-10-02T13:34:18.129256Z",
     "start_time": "2024-10-02T13:34:18.003841Z"
    }
   },
   "cell_type": "code",
   "source": "final.to_excel('data/final_production_plan.xlsx')",
   "id": "e314796f46809d4b",
   "outputs": [],
   "execution_count": 24
  },
  {
   "metadata": {},
   "cell_type": "code",
   "outputs": [],
   "execution_count": null,
   "source": "",
   "id": "b518647999bcc5d6"
  }
 ],
 "metadata": {
  "kernelspec": {
   "display_name": "Python 3",
   "language": "python",
   "name": "python3"
  },
  "language_info": {
   "codemirror_mode": {
    "name": "ipython",
    "version": 2
   },
   "file_extension": ".py",
   "mimetype": "text/x-python",
   "name": "python",
   "nbconvert_exporter": "python",
   "pygments_lexer": "ipython2",
   "version": "2.7.6"
  }
 },
 "nbformat": 4,
 "nbformat_minor": 5
}
