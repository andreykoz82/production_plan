{
 "cells": [
  {
   "metadata": {},
   "cell_type": "markdown",
   "source": "# РАСЧЕТ ПЛАНА ПРОИЗВОДСТВА НА 2025 г.",
   "id": "df60e4454e203476"
  },
  {
   "metadata": {
    "ExecuteTime": {
     "end_time": "2025-01-09T12:40:08.299982Z",
     "start_time": "2025-01-09T12:40:07.953083Z"
    }
   },
   "cell_type": "code",
   "source": [
    "import pandas as pd\n",
    "import warnings\n",
    "warnings.filterwarnings('ignore')"
   ],
   "id": "9fe1e258d20463da",
   "outputs": [],
   "execution_count": 1
  },
  {
   "metadata": {},
   "cell_type": "markdown",
   "source": "## Загрузка исходных данных для расчета",
   "id": "b5b6230936d120d9"
  },
  {
   "metadata": {
    "ExecuteTime": {
     "end_time": "2025-01-09T12:44:58.439608Z",
     "start_time": "2025-01-09T12:44:58.261131Z"
    }
   },
   "cell_type": "code",
   "source": [
    "actual_items = pd.read_excel('data/actual_items.xlsx')\n",
    "current_stocks = pd.read_excel('data/stocks_2024.xlsx') # Остатки на 31.12.2024\n",
    "current_stocks['item'] = current_stocks['item'].str.replace(', шт', '')\n",
    "current_stocks.fillna(0, inplace=True)\n",
    "current_stocks['stock_level'] = current_stocks['stock_level'].astype('int')\n",
    "sales_plan = pd.read_excel('data/sales_plan_2025.xlsx')"
   ],
   "id": "d1e3073b52e47e1c",
   "outputs": [],
   "execution_count": 10
  },
  {
   "metadata": {
    "ExecuteTime": {
     "end_time": "2025-01-09T12:45:00.813184Z",
     "start_time": "2025-01-09T12:45:00.791998Z"
    }
   },
   "cell_type": "code",
   "source": [
    "month_mapping = {'Январь': 1, 'Февраль': 2, 'Март': 3, 'Апрель': 4, 'Май': 5, 'Июнь': 6, 'Июль': 7,\n",
    "                            'Август': 8, 'Сентябрь': 9, 'Октябрь': 10, 'Ноябрь': 11, 'Декабрь': 12, }\n",
    "month = sales_plan['date'].str.replace(' г.', \"\").str.split(' ', expand=True)[0].map(month_mapping)\n",
    "year = sales_plan['date'].str.replace(' г.', \"\").str.split(' ', expand=True)[1]\n",
    "temp = month.to_frame().join(year)\n",
    "temp[0] = temp[0].astype('str')\n",
    "temp[1] = temp[1].astype('str')\n",
    "temp['date'] = temp[0] + '-' + temp[1]\n",
    "temp['date'] = pd.to_datetime(temp['date'], format=\"%m-%Y\")\n",
    "sales_plan['date'] = temp['date']"
   ],
   "id": "6d327c97b4d92f06",
   "outputs": [],
   "execution_count": 11
  },
  {
   "metadata": {},
   "cell_type": "markdown",
   "source": "## Расчет плана производства",
   "id": "f668fcba7ea4c4a1"
  },
  {
   "metadata": {},
   "cell_type": "markdown",
   "source": "Функции для расчета:",
   "id": "6767a3c9fb5e23de"
  },
  {
   "metadata": {
    "ExecuteTime": {
     "end_time": "2025-01-09T12:40:21.910441Z",
     "start_time": "2025-01-09T12:40:21.903405Z"
    }
   },
   "cell_type": "code",
   "source": [
    "def calculate_production(actual_items, stocks, sales_plan, safety_level=41, working_days=20, start_date=\"2024-10-01\"):\n",
    "    production_plan = {}\n",
    "    actual_items = actual_items['item'].to_list()\n",
    "    sales_plan = sales_plan.query('date == @start_date')\n",
    "    for x in actual_items:\n",
    "        if x in stocks['item'].to_list():\n",
    "            stock_level = stocks.query('item == @x')['stock_level'].tolist()[0]\n",
    "        else: \n",
    "            stock_level = 0\n",
    "        if x in sales_plan['item'].to_list():\n",
    "            sales_quantity = sales_plan.query('item == @x')['quantity'].tolist()[0]\n",
    "        else:\n",
    "            sales_quantity = 1\n",
    "        sales_per_day = sales_quantity / working_days\n",
    "        if (stock_level / sales_per_day - safety_level) >0:\n",
    "            production_plan[x] = 0\n",
    "        else:\n",
    "            production_plan[x] = round((safety_level - stock_level / sales_per_day) * sales_per_day, -3)\n",
    "    return production_plan"
   ],
   "id": "105cab2d86b6d6d6",
   "outputs": [],
   "execution_count": 4
  },
  {
   "metadata": {
    "ExecuteTime": {
     "end_time": "2025-01-09T12:40:33.649755Z",
     "start_time": "2025-01-09T12:40:33.643217Z"
    }
   },
   "cell_type": "code",
   "source": [
    "def calculate_stocks(actual_items, stocks, sales_plan, production_plan, start_date=\"2024-10-01\"):\n",
    "    sales_plan = sales_plan.query('date == @start_date')\n",
    "    df = (actual_items\n",
    "          .merge(stocks, how='left', on='item')\n",
    "          .merge(sales_plan, how='left', on='item')\n",
    "          .merge(production_plan, how='left', on='item'))\n",
    "    df['stock_level'] = df['stock_level'] + df['production_volume'] - df['quantity']\n",
    "    return df[['item', 'stock_level']]"
   ],
   "id": "fe215022c5a48b20",
   "outputs": [],
   "execution_count": 6
  },
  {
   "metadata": {},
   "cell_type": "markdown",
   "source": "Расчет плана производства:",
   "id": "d02aa59d445c378c"
  },
  {
   "metadata": {
    "ExecuteTime": {
     "end_time": "2025-01-09T12:54:37.717641Z",
     "start_time": "2025-01-09T12:54:34.050833Z"
    }
   },
   "cell_type": "code",
   "source": [
    "planning_period = ['2025-01-01', '2025-02-01', '2025-03-01', '2025-04-01', '2025-05-01', \n",
    "                   '2025-06-01', '2025-07-01', '2025-08-01', '2025-09-01', '2025-10-01', '2025-11-01', '2025-12-01']\n",
    "safety_level = [54, 52, 49, 66, 74, 62, 75, 65, 47, 52, 49, 46]\n",
    "production_plan = {}\n",
    "stocks = current_stocks\n",
    "planning_stocks = []\n",
    "for period, level in zip(planning_period, safety_level):\n",
    "    plan = calculate_production(actual_items, stocks, sales_plan, safety_level=level, start_date=period)\n",
    "    production_plan[period] = plan\n",
    "    plan = pd.DataFrame.from_dict([plan]).T.reset_index().rename(columns={'index':'item', 0:'production_volume'})\n",
    "    new_stocks = calculate_stocks(actual_items, stocks, sales_plan, plan, start_date=period)\n",
    "    planning_stocks.append(new_stocks)\n",
    "    stocks = new_stocks"
   ],
   "id": "640eebee7191bcab",
   "outputs": [],
   "execution_count": 123
  },
  {
   "metadata": {},
   "cell_type": "markdown",
   "source": "## ИТОГОВЫЙ ПЛАН ПРОИЗВОДСТВА",
   "id": "926afaa00d5eeaf"
  },
  {
   "metadata": {
    "ExecuteTime": {
     "end_time": "2025-01-09T12:54:37.739906Z",
     "start_time": "2025-01-09T12:54:37.720656Z"
    }
   },
   "cell_type": "code",
   "source": [
    "final_production_plan = pd.DataFrame(production_plan).reset_index().rename(columns={'index':'item'})\n",
    "final_production_plan.head()"
   ],
   "id": "51bd22c0449ceb8c",
   "outputs": [
    {
     "data": {
      "text/plain": [
       "                              item  2025-01-01  2025-02-01  2025-03-01  \\\n",
       "0                Аир корневища 75г      4000.0      7000.0      8000.0   \n",
       "1                  Алтей корни 75г         0.0         0.0         0.0   \n",
       "2    Багульник болотный побеги 50г      5000.0      8000.0      8000.0   \n",
       "3                 Береза почки 50г      5000.0      9000.0      9000.0   \n",
       "4  Бессмертник песчаный цветки 30г     18000.0     16000.0     17000.0   \n",
       "\n",
       "   2025-04-01  2025-05-01  2025-06-01  2025-07-01  2025-08-01  2025-09-01  \\\n",
       "0      4000.0      4000.0      6000.0      4000.0      5000.0      8000.0   \n",
       "1         0.0      1000.0      2000.0      1000.0      2000.0      3000.0   \n",
       "2      5000.0      5000.0      6000.0      5000.0      6000.0      9000.0   \n",
       "3      5000.0      5000.0      6000.0      5000.0      6000.0     10000.0   \n",
       "4     10000.0     10000.0     13000.0      9000.0     12000.0     19000.0   \n",
       "\n",
       "   2025-10-01  2025-11-01  2025-12-01  \n",
       "0      7000.0      8000.0      9000.0  \n",
       "1      2000.0      3000.0      3000.0  \n",
       "2      8000.0      9000.0     10000.0  \n",
       "3      8000.0     10000.0     10000.0  \n",
       "4     16000.0     17000.0     21000.0  "
      ],
      "text/html": [
       "<div>\n",
       "<style scoped>\n",
       "    .dataframe tbody tr th:only-of-type {\n",
       "        vertical-align: middle;\n",
       "    }\n",
       "\n",
       "    .dataframe tbody tr th {\n",
       "        vertical-align: top;\n",
       "    }\n",
       "\n",
       "    .dataframe thead th {\n",
       "        text-align: right;\n",
       "    }\n",
       "</style>\n",
       "<table border=\"1\" class=\"dataframe\">\n",
       "  <thead>\n",
       "    <tr style=\"text-align: right;\">\n",
       "      <th></th>\n",
       "      <th>item</th>\n",
       "      <th>2025-01-01</th>\n",
       "      <th>2025-02-01</th>\n",
       "      <th>2025-03-01</th>\n",
       "      <th>2025-04-01</th>\n",
       "      <th>2025-05-01</th>\n",
       "      <th>2025-06-01</th>\n",
       "      <th>2025-07-01</th>\n",
       "      <th>2025-08-01</th>\n",
       "      <th>2025-09-01</th>\n",
       "      <th>2025-10-01</th>\n",
       "      <th>2025-11-01</th>\n",
       "      <th>2025-12-01</th>\n",
       "    </tr>\n",
       "  </thead>\n",
       "  <tbody>\n",
       "    <tr>\n",
       "      <th>0</th>\n",
       "      <td>Аир корневища 75г</td>\n",
       "      <td>4000.0</td>\n",
       "      <td>7000.0</td>\n",
       "      <td>8000.0</td>\n",
       "      <td>4000.0</td>\n",
       "      <td>4000.0</td>\n",
       "      <td>6000.0</td>\n",
       "      <td>4000.0</td>\n",
       "      <td>5000.0</td>\n",
       "      <td>8000.0</td>\n",
       "      <td>7000.0</td>\n",
       "      <td>8000.0</td>\n",
       "      <td>9000.0</td>\n",
       "    </tr>\n",
       "    <tr>\n",
       "      <th>1</th>\n",
       "      <td>Алтей корни 75г</td>\n",
       "      <td>0.0</td>\n",
       "      <td>0.0</td>\n",
       "      <td>0.0</td>\n",
       "      <td>0.0</td>\n",
       "      <td>1000.0</td>\n",
       "      <td>2000.0</td>\n",
       "      <td>1000.0</td>\n",
       "      <td>2000.0</td>\n",
       "      <td>3000.0</td>\n",
       "      <td>2000.0</td>\n",
       "      <td>3000.0</td>\n",
       "      <td>3000.0</td>\n",
       "    </tr>\n",
       "    <tr>\n",
       "      <th>2</th>\n",
       "      <td>Багульник болотный побеги 50г</td>\n",
       "      <td>5000.0</td>\n",
       "      <td>8000.0</td>\n",
       "      <td>8000.0</td>\n",
       "      <td>5000.0</td>\n",
       "      <td>5000.0</td>\n",
       "      <td>6000.0</td>\n",
       "      <td>5000.0</td>\n",
       "      <td>6000.0</td>\n",
       "      <td>9000.0</td>\n",
       "      <td>8000.0</td>\n",
       "      <td>9000.0</td>\n",
       "      <td>10000.0</td>\n",
       "    </tr>\n",
       "    <tr>\n",
       "      <th>3</th>\n",
       "      <td>Береза почки 50г</td>\n",
       "      <td>5000.0</td>\n",
       "      <td>9000.0</td>\n",
       "      <td>9000.0</td>\n",
       "      <td>5000.0</td>\n",
       "      <td>5000.0</td>\n",
       "      <td>6000.0</td>\n",
       "      <td>5000.0</td>\n",
       "      <td>6000.0</td>\n",
       "      <td>10000.0</td>\n",
       "      <td>8000.0</td>\n",
       "      <td>10000.0</td>\n",
       "      <td>10000.0</td>\n",
       "    </tr>\n",
       "    <tr>\n",
       "      <th>4</th>\n",
       "      <td>Бессмертник песчаный цветки 30г</td>\n",
       "      <td>18000.0</td>\n",
       "      <td>16000.0</td>\n",
       "      <td>17000.0</td>\n",
       "      <td>10000.0</td>\n",
       "      <td>10000.0</td>\n",
       "      <td>13000.0</td>\n",
       "      <td>9000.0</td>\n",
       "      <td>12000.0</td>\n",
       "      <td>19000.0</td>\n",
       "      <td>16000.0</td>\n",
       "      <td>17000.0</td>\n",
       "      <td>21000.0</td>\n",
       "    </tr>\n",
       "  </tbody>\n",
       "</table>\n",
       "</div>"
      ]
     },
     "execution_count": 124,
     "metadata": {},
     "output_type": "execute_result"
    }
   ],
   "execution_count": 124
  },
  {
   "metadata": {
    "ExecuteTime": {
     "end_time": "2025-01-09T12:54:37.821220Z",
     "start_time": "2025-01-09T12:54:37.807649Z"
    }
   },
   "cell_type": "code",
   "source": [
    "sales_by_month = sales_plan.groupby(by='date').sum().quantity.reset_index()\n",
    "production_plan_by_month = final_production_plan.sum().drop('item',axis=0).reset_index().rename(columns={'index':'date', 0:'production_volume'})\n",
    "production_plan_by_month['date'] = pd.to_datetime(production_plan_by_month['date'])\n",
    "production_plan_by_month.merge(sales_by_month, how='left', on='date')"
   ],
   "id": "a7efc22d4aba747b",
   "outputs": [
    {
     "data": {
      "text/plain": [
       "         date production_volume  quantity\n",
       "0  2025-01-01         2476000.0   2551382\n",
       "1  2025-02-01         2887000.0   2827439\n",
       "2  2025-03-01         3097000.0   3127585\n",
       "3  2025-04-01         1903000.0   1972991\n",
       "4  2025-05-01         1767000.0   1717764\n",
       "5  2025-06-01         2223000.0   2210357\n",
       "6  2025-07-01         1713000.0   1706510\n",
       "7  2025-08-01         2137000.0   2111786\n",
       "8  2025-09-01         3378000.0   3471795\n",
       "9  2025-10-01         2874000.0   2923500\n",
       "10 2025-11-01         3203000.0   3241075\n",
       "11 2025-12-01         3634000.0   3634893"
      ],
      "text/html": [
       "<div>\n",
       "<style scoped>\n",
       "    .dataframe tbody tr th:only-of-type {\n",
       "        vertical-align: middle;\n",
       "    }\n",
       "\n",
       "    .dataframe tbody tr th {\n",
       "        vertical-align: top;\n",
       "    }\n",
       "\n",
       "    .dataframe thead th {\n",
       "        text-align: right;\n",
       "    }\n",
       "</style>\n",
       "<table border=\"1\" class=\"dataframe\">\n",
       "  <thead>\n",
       "    <tr style=\"text-align: right;\">\n",
       "      <th></th>\n",
       "      <th>date</th>\n",
       "      <th>production_volume</th>\n",
       "      <th>quantity</th>\n",
       "    </tr>\n",
       "  </thead>\n",
       "  <tbody>\n",
       "    <tr>\n",
       "      <th>0</th>\n",
       "      <td>2025-01-01</td>\n",
       "      <td>2476000.0</td>\n",
       "      <td>2551382</td>\n",
       "    </tr>\n",
       "    <tr>\n",
       "      <th>1</th>\n",
       "      <td>2025-02-01</td>\n",
       "      <td>2887000.0</td>\n",
       "      <td>2827439</td>\n",
       "    </tr>\n",
       "    <tr>\n",
       "      <th>2</th>\n",
       "      <td>2025-03-01</td>\n",
       "      <td>3097000.0</td>\n",
       "      <td>3127585</td>\n",
       "    </tr>\n",
       "    <tr>\n",
       "      <th>3</th>\n",
       "      <td>2025-04-01</td>\n",
       "      <td>1903000.0</td>\n",
       "      <td>1972991</td>\n",
       "    </tr>\n",
       "    <tr>\n",
       "      <th>4</th>\n",
       "      <td>2025-05-01</td>\n",
       "      <td>1767000.0</td>\n",
       "      <td>1717764</td>\n",
       "    </tr>\n",
       "    <tr>\n",
       "      <th>5</th>\n",
       "      <td>2025-06-01</td>\n",
       "      <td>2223000.0</td>\n",
       "      <td>2210357</td>\n",
       "    </tr>\n",
       "    <tr>\n",
       "      <th>6</th>\n",
       "      <td>2025-07-01</td>\n",
       "      <td>1713000.0</td>\n",
       "      <td>1706510</td>\n",
       "    </tr>\n",
       "    <tr>\n",
       "      <th>7</th>\n",
       "      <td>2025-08-01</td>\n",
       "      <td>2137000.0</td>\n",
       "      <td>2111786</td>\n",
       "    </tr>\n",
       "    <tr>\n",
       "      <th>8</th>\n",
       "      <td>2025-09-01</td>\n",
       "      <td>3378000.0</td>\n",
       "      <td>3471795</td>\n",
       "    </tr>\n",
       "    <tr>\n",
       "      <th>9</th>\n",
       "      <td>2025-10-01</td>\n",
       "      <td>2874000.0</td>\n",
       "      <td>2923500</td>\n",
       "    </tr>\n",
       "    <tr>\n",
       "      <th>10</th>\n",
       "      <td>2025-11-01</td>\n",
       "      <td>3203000.0</td>\n",
       "      <td>3241075</td>\n",
       "    </tr>\n",
       "    <tr>\n",
       "      <th>11</th>\n",
       "      <td>2025-12-01</td>\n",
       "      <td>3634000.0</td>\n",
       "      <td>3634893</td>\n",
       "    </tr>\n",
       "  </tbody>\n",
       "</table>\n",
       "</div>"
      ]
     },
     "execution_count": 125,
     "metadata": {},
     "output_type": "execute_result"
    }
   ],
   "execution_count": 125
  },
  {
   "metadata": {},
   "cell_type": "markdown",
   "source": "## ИТОГОВЫЙ ЭКСПОРТ В EXCEL",
   "id": "231f4351b9efaf0c"
  },
  {
   "metadata": {
    "ExecuteTime": {
     "end_time": "2025-01-09T12:55:11.620208Z",
     "start_time": "2025-01-09T12:55:11.526767Z"
    }
   },
   "cell_type": "code",
   "source": "final_production_plan.to_excel('data/final_production_plan.xlsx')",
   "id": "e314796f46809d4b",
   "outputs": [],
   "execution_count": 126
  }
 ],
 "metadata": {
  "kernelspec": {
   "display_name": "Python 3",
   "language": "python",
   "name": "python3"
  },
  "language_info": {
   "codemirror_mode": {
    "name": "ipython",
    "version": 2
   },
   "file_extension": ".py",
   "mimetype": "text/x-python",
   "name": "python",
   "nbconvert_exporter": "python",
   "pygments_lexer": "ipython2",
   "version": "2.7.6"
  }
 },
 "nbformat": 4,
 "nbformat_minor": 5
}
