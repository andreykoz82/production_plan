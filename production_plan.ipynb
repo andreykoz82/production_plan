{
 "cells": [
  {
   "metadata": {},
   "cell_type": "markdown",
   "source": "# РАСЧЕТ ПЛАНА ПРОИЗВОДСТВА НА 2025 г.",
   "id": "df60e4454e203476"
  },
  {
   "metadata": {
    "ExecuteTime": {
     "end_time": "2025-02-19T12:25:51.083826Z",
     "start_time": "2025-02-19T12:25:50.180376Z"
    }
   },
   "cell_type": "code",
   "source": [
    "import pandas as pd\n",
    "import warnings\n",
    "warnings.filterwarnings('ignore')"
   ],
   "id": "9fe1e258d20463da",
   "outputs": [],
   "execution_count": 1
  },
  {
   "metadata": {},
   "cell_type": "markdown",
   "source": "## Загрузка исходных данных для расчета",
   "id": "b5b6230936d120d9"
  },
  {
   "metadata": {
    "ExecuteTime": {
     "end_time": "2025-02-19T12:58:13.271773Z",
     "start_time": "2025-02-19T12:58:13.138098Z"
    }
   },
   "cell_type": "code",
   "source": [
    "actual_items = pd.read_excel('data/actual_items.xlsx')\n",
    "current_stocks = pd.read_excel('data/stocks_2024.xlsx') # Остатки на 31.12.2024\n",
    "current_stocks['item'] = current_stocks['item'].str.replace(', шт', '')\n",
    "current_stocks.fillna(0, inplace=True)\n",
    "current_stocks['stock_level'] = current_stocks['stock_level'].astype('int')\n",
    "sales_plan = pd.read_excel('data/sales_plan_2025.xlsx')"
   ],
   "id": "d1e3073b52e47e1c",
   "outputs": [],
   "execution_count": 74
  },
  {
   "metadata": {
    "ExecuteTime": {
     "end_time": "2025-02-19T12:58:14.656414Z",
     "start_time": "2025-02-19T12:58:14.649444Z"
    }
   },
   "cell_type": "code",
   "source": "sales_plan['date'] = pd.to_datetime(sales_plan['date'])",
   "id": "2febf5ab2dc0f310",
   "outputs": [],
   "execution_count": 75
  },
  {
   "metadata": {},
   "cell_type": "markdown",
   "source": "## Расчет плана производства",
   "id": "f668fcba7ea4c4a1"
  },
  {
   "metadata": {},
   "cell_type": "markdown",
   "source": "Функции для расчета:",
   "id": "6767a3c9fb5e23de"
  },
  {
   "metadata": {
    "ExecuteTime": {
     "end_time": "2025-02-19T12:58:16.132556Z",
     "start_time": "2025-02-19T12:58:16.125965Z"
    }
   },
   "cell_type": "code",
   "source": [
    "def calculate_production(actual_items, stocks, sales_plan, safety_level=41, working_days=20, start_date=\"2024-10-01\"):\n",
    "    production_plan = {}\n",
    "    actual_items = actual_items['item'].to_list()\n",
    "    sales_plan = sales_plan.query('date == @start_date')\n",
    "    for x in actual_items:\n",
    "        if x in stocks['item'].to_list():\n",
    "            stock_level = stocks.query('item == @x')['stock_level'].tolist()[0]\n",
    "        else: \n",
    "            stock_level = 0\n",
    "        if x in sales_plan['item'].to_list():\n",
    "            sales_quantity = sales_plan.query('item == @x')['quantity'].tolist()[0]\n",
    "        else:\n",
    "            sales_quantity = 1\n",
    "        sales_per_day = sales_quantity / working_days\n",
    "        if (stock_level / sales_per_day - safety_level) >0:\n",
    "            production_plan[x] = 0\n",
    "        else:\n",
    "            production_plan[x] = round((safety_level - stock_level / sales_per_day) * sales_per_day, -3)\n",
    "    return production_plan"
   ],
   "id": "105cab2d86b6d6d6",
   "outputs": [],
   "execution_count": 76
  },
  {
   "metadata": {
    "ExecuteTime": {
     "end_time": "2025-02-19T12:58:17.568299Z",
     "start_time": "2025-02-19T12:58:17.562241Z"
    }
   },
   "cell_type": "code",
   "source": [
    "def calculate_stocks(actual_items, stocks, sales_plan, production_plan, start_date=\"2024-10-01\"):\n",
    "    sales_plan = sales_plan.query('date == @start_date')\n",
    "    df = (actual_items\n",
    "          .merge(stocks, how='left', on='item')\n",
    "          .merge(sales_plan, how='left', on='item')\n",
    "          .merge(production_plan, how='left', on='item'))\n",
    "    df['stock_level'] = df['stock_level'] + df['production_volume'] - df['quantity']\n",
    "    return df[['item', 'stock_level']]"
   ],
   "id": "fe215022c5a48b20",
   "outputs": [],
   "execution_count": 77
  },
  {
   "metadata": {},
   "cell_type": "markdown",
   "source": "Расчет плана производства:",
   "id": "d02aa59d445c378c"
  },
  {
   "metadata": {
    "ExecuteTime": {
     "end_time": "2025-02-19T13:08:08.035507Z",
     "start_time": "2025-02-19T13:08:03.911780Z"
    }
   },
   "cell_type": "code",
   "source": [
    "planning_period = ['2025-01-01', '2025-02-01', '2025-03-01', '2025-04-01', '2025-05-01', \n",
    "                   '2025-06-01', '2025-07-01', '2025-08-01', '2025-09-01', '2025-10-01', '2025-11-01', '2025-12-01']\n",
    "safety_level = [56, 54, 51, 69, 78, 66, 79, 69, 50, 57, 55, 52]\n",
    "production_plan = {}\n",
    "stocks = current_stocks\n",
    "planning_stocks = []\n",
    "for period, level in zip(planning_period, safety_level):\n",
    "    plan = calculate_production(actual_items, stocks, sales_plan, safety_level=level, start_date=period)\n",
    "    production_plan[period] = plan\n",
    "    plan = pd.DataFrame.from_dict([plan]).T.reset_index().rename(columns={'index':'item', 0:'production_volume'})\n",
    "    new_stocks = calculate_stocks(actual_items, stocks, sales_plan, plan, start_date=period)\n",
    "    planning_stocks.append(new_stocks)\n",
    "    stocks = new_stocks"
   ],
   "id": "640eebee7191bcab",
   "outputs": [],
   "execution_count": 98
  },
  {
   "metadata": {},
   "cell_type": "markdown",
   "source": "## ИТОГОВЫЙ ПЛАН ПРОИЗВОДСТВА",
   "id": "926afaa00d5eeaf"
  },
  {
   "metadata": {
    "ExecuteTime": {
     "end_time": "2025-02-19T13:08:08.645167Z",
     "start_time": "2025-02-19T13:08:08.626358Z"
    }
   },
   "cell_type": "code",
   "source": [
    "final_production_plan = pd.DataFrame(production_plan).reset_index().rename(columns={'index':'item'})\n",
    "final_production_plan.head()"
   ],
   "id": "51bd22c0449ceb8c",
   "outputs": [
    {
     "data": {
      "text/plain": [
       "                              item  2025-01-01  2025-02-01  2025-03-01  \\\n",
       "0                Аир корневища 75г      5000.0      7000.0      8000.0   \n",
       "1                  Алтей корни 75г         0.0         0.0         0.0   \n",
       "2    Багульник болотный побеги 50г      5000.0      9000.0      8000.0   \n",
       "3                 Береза почки 50г      6000.0      9000.0      9000.0   \n",
       "4  Бессмертник песчаный цветки 30г     19000.0     17000.0     17000.0   \n",
       "\n",
       "   2025-04-01  2025-05-01  2025-06-01  2025-07-01  2025-08-01  2025-09-01  \\\n",
       "0      4000.0      4000.0      6000.0      4000.0      5000.0      9000.0   \n",
       "1         0.0      1000.0      2000.0      2000.0      1000.0      3000.0   \n",
       "2      5000.0      5000.0      7000.0      4000.0      6000.0     10000.0   \n",
       "3      5000.0      5000.0      7000.0      4000.0      6000.0     11000.0   \n",
       "4     10000.0     10000.0     13000.0      8000.0     13000.0     20000.0   \n",
       "\n",
       "   2025-10-01  2025-11-01  2025-12-01  \n",
       "0      7000.0      8000.0      9000.0  \n",
       "1      3000.0      3000.0      3000.0  \n",
       "2      8000.0     10000.0     10000.0  \n",
       "3      8000.0     10000.0     11000.0  \n",
       "4     17000.0     19000.0     21000.0  "
      ],
      "text/html": [
       "<div>\n",
       "<style scoped>\n",
       "    .dataframe tbody tr th:only-of-type {\n",
       "        vertical-align: middle;\n",
       "    }\n",
       "\n",
       "    .dataframe tbody tr th {\n",
       "        vertical-align: top;\n",
       "    }\n",
       "\n",
       "    .dataframe thead th {\n",
       "        text-align: right;\n",
       "    }\n",
       "</style>\n",
       "<table border=\"1\" class=\"dataframe\">\n",
       "  <thead>\n",
       "    <tr style=\"text-align: right;\">\n",
       "      <th></th>\n",
       "      <th>item</th>\n",
       "      <th>2025-01-01</th>\n",
       "      <th>2025-02-01</th>\n",
       "      <th>2025-03-01</th>\n",
       "      <th>2025-04-01</th>\n",
       "      <th>2025-05-01</th>\n",
       "      <th>2025-06-01</th>\n",
       "      <th>2025-07-01</th>\n",
       "      <th>2025-08-01</th>\n",
       "      <th>2025-09-01</th>\n",
       "      <th>2025-10-01</th>\n",
       "      <th>2025-11-01</th>\n",
       "      <th>2025-12-01</th>\n",
       "    </tr>\n",
       "  </thead>\n",
       "  <tbody>\n",
       "    <tr>\n",
       "      <th>0</th>\n",
       "      <td>Аир корневища 75г</td>\n",
       "      <td>5000.0</td>\n",
       "      <td>7000.0</td>\n",
       "      <td>8000.0</td>\n",
       "      <td>4000.0</td>\n",
       "      <td>4000.0</td>\n",
       "      <td>6000.0</td>\n",
       "      <td>4000.0</td>\n",
       "      <td>5000.0</td>\n",
       "      <td>9000.0</td>\n",
       "      <td>7000.0</td>\n",
       "      <td>8000.0</td>\n",
       "      <td>9000.0</td>\n",
       "    </tr>\n",
       "    <tr>\n",
       "      <th>1</th>\n",
       "      <td>Алтей корни 75г</td>\n",
       "      <td>0.0</td>\n",
       "      <td>0.0</td>\n",
       "      <td>0.0</td>\n",
       "      <td>0.0</td>\n",
       "      <td>1000.0</td>\n",
       "      <td>2000.0</td>\n",
       "      <td>2000.0</td>\n",
       "      <td>1000.0</td>\n",
       "      <td>3000.0</td>\n",
       "      <td>3000.0</td>\n",
       "      <td>3000.0</td>\n",
       "      <td>3000.0</td>\n",
       "    </tr>\n",
       "    <tr>\n",
       "      <th>2</th>\n",
       "      <td>Багульник болотный побеги 50г</td>\n",
       "      <td>5000.0</td>\n",
       "      <td>9000.0</td>\n",
       "      <td>8000.0</td>\n",
       "      <td>5000.0</td>\n",
       "      <td>5000.0</td>\n",
       "      <td>7000.0</td>\n",
       "      <td>4000.0</td>\n",
       "      <td>6000.0</td>\n",
       "      <td>10000.0</td>\n",
       "      <td>8000.0</td>\n",
       "      <td>10000.0</td>\n",
       "      <td>10000.0</td>\n",
       "    </tr>\n",
       "    <tr>\n",
       "      <th>3</th>\n",
       "      <td>Береза почки 50г</td>\n",
       "      <td>6000.0</td>\n",
       "      <td>9000.0</td>\n",
       "      <td>9000.0</td>\n",
       "      <td>5000.0</td>\n",
       "      <td>5000.0</td>\n",
       "      <td>7000.0</td>\n",
       "      <td>4000.0</td>\n",
       "      <td>6000.0</td>\n",
       "      <td>11000.0</td>\n",
       "      <td>8000.0</td>\n",
       "      <td>10000.0</td>\n",
       "      <td>11000.0</td>\n",
       "    </tr>\n",
       "    <tr>\n",
       "      <th>4</th>\n",
       "      <td>Бессмертник песчаный цветки 30г</td>\n",
       "      <td>19000.0</td>\n",
       "      <td>17000.0</td>\n",
       "      <td>17000.0</td>\n",
       "      <td>10000.0</td>\n",
       "      <td>10000.0</td>\n",
       "      <td>13000.0</td>\n",
       "      <td>8000.0</td>\n",
       "      <td>13000.0</td>\n",
       "      <td>20000.0</td>\n",
       "      <td>17000.0</td>\n",
       "      <td>19000.0</td>\n",
       "      <td>21000.0</td>\n",
       "    </tr>\n",
       "  </tbody>\n",
       "</table>\n",
       "</div>"
      ]
     },
     "execution_count": 99,
     "metadata": {},
     "output_type": "execute_result"
    }
   ],
   "execution_count": 99
  },
  {
   "metadata": {
    "ExecuteTime": {
     "end_time": "2025-02-19T13:08:10.081719Z",
     "start_time": "2025-02-19T13:08:10.064764Z"
    }
   },
   "cell_type": "code",
   "source": [
    "sales_by_month = sales_plan.groupby(by='date').sum().quantity.reset_index()\n",
    "production_plan_by_month = final_production_plan.sum().drop('item',axis=0).reset_index().rename(columns={'index':'date', 0:'production_volume'})\n",
    "production_plan_by_month['date'] = pd.to_datetime(production_plan_by_month['date'])\n",
    "production_plan_by_month.merge(sales_by_month, how='left', on='date')"
   ],
   "id": "a7efc22d4aba747b",
   "outputs": [
    {
     "data": {
      "text/plain": [
       "         date production_volume  quantity\n",
       "0  2025-01-01         2674000.0   2629357\n",
       "1  2025-02-01         2930000.0   2945739\n",
       "2  2025-03-01         3116000.0   3266885\n",
       "3  2025-04-01         1882000.0   2066966\n",
       "4  2025-05-01         1798000.0   1800563\n",
       "5  2025-06-01         2322000.0   2305332\n",
       "6  2025-07-01         1498000.0   1712985\n",
       "7  2025-08-01         2187000.0   2203110\n",
       "8  2025-09-01         3482000.0   3605595\n",
       "9  2025-10-01         3005000.0   3031800\n",
       "10 2025-11-01         3392000.0   3334375\n",
       "11 2025-12-01         3690000.0   3773693"
      ],
      "text/html": [
       "<div>\n",
       "<style scoped>\n",
       "    .dataframe tbody tr th:only-of-type {\n",
       "        vertical-align: middle;\n",
       "    }\n",
       "\n",
       "    .dataframe tbody tr th {\n",
       "        vertical-align: top;\n",
       "    }\n",
       "\n",
       "    .dataframe thead th {\n",
       "        text-align: right;\n",
       "    }\n",
       "</style>\n",
       "<table border=\"1\" class=\"dataframe\">\n",
       "  <thead>\n",
       "    <tr style=\"text-align: right;\">\n",
       "      <th></th>\n",
       "      <th>date</th>\n",
       "      <th>production_volume</th>\n",
       "      <th>quantity</th>\n",
       "    </tr>\n",
       "  </thead>\n",
       "  <tbody>\n",
       "    <tr>\n",
       "      <th>0</th>\n",
       "      <td>2025-01-01</td>\n",
       "      <td>2674000.0</td>\n",
       "      <td>2629357</td>\n",
       "    </tr>\n",
       "    <tr>\n",
       "      <th>1</th>\n",
       "      <td>2025-02-01</td>\n",
       "      <td>2930000.0</td>\n",
       "      <td>2945739</td>\n",
       "    </tr>\n",
       "    <tr>\n",
       "      <th>2</th>\n",
       "      <td>2025-03-01</td>\n",
       "      <td>3116000.0</td>\n",
       "      <td>3266885</td>\n",
       "    </tr>\n",
       "    <tr>\n",
       "      <th>3</th>\n",
       "      <td>2025-04-01</td>\n",
       "      <td>1882000.0</td>\n",
       "      <td>2066966</td>\n",
       "    </tr>\n",
       "    <tr>\n",
       "      <th>4</th>\n",
       "      <td>2025-05-01</td>\n",
       "      <td>1798000.0</td>\n",
       "      <td>1800563</td>\n",
       "    </tr>\n",
       "    <tr>\n",
       "      <th>5</th>\n",
       "      <td>2025-06-01</td>\n",
       "      <td>2322000.0</td>\n",
       "      <td>2305332</td>\n",
       "    </tr>\n",
       "    <tr>\n",
       "      <th>6</th>\n",
       "      <td>2025-07-01</td>\n",
       "      <td>1498000.0</td>\n",
       "      <td>1712985</td>\n",
       "    </tr>\n",
       "    <tr>\n",
       "      <th>7</th>\n",
       "      <td>2025-08-01</td>\n",
       "      <td>2187000.0</td>\n",
       "      <td>2203110</td>\n",
       "    </tr>\n",
       "    <tr>\n",
       "      <th>8</th>\n",
       "      <td>2025-09-01</td>\n",
       "      <td>3482000.0</td>\n",
       "      <td>3605595</td>\n",
       "    </tr>\n",
       "    <tr>\n",
       "      <th>9</th>\n",
       "      <td>2025-10-01</td>\n",
       "      <td>3005000.0</td>\n",
       "      <td>3031800</td>\n",
       "    </tr>\n",
       "    <tr>\n",
       "      <th>10</th>\n",
       "      <td>2025-11-01</td>\n",
       "      <td>3392000.0</td>\n",
       "      <td>3334375</td>\n",
       "    </tr>\n",
       "    <tr>\n",
       "      <th>11</th>\n",
       "      <td>2025-12-01</td>\n",
       "      <td>3690000.0</td>\n",
       "      <td>3773693</td>\n",
       "    </tr>\n",
       "  </tbody>\n",
       "</table>\n",
       "</div>"
      ]
     },
     "execution_count": 100,
     "metadata": {},
     "output_type": "execute_result"
    }
   ],
   "execution_count": 100
  },
  {
   "metadata": {
    "ExecuteTime": {
     "end_time": "2025-02-19T13:08:12.361488Z",
     "start_time": "2025-02-19T13:08:12.354506Z"
    }
   },
   "cell_type": "code",
   "source": "production_plan_by_month.production_volume.sum()",
   "id": "34c0eccaf1b0b7d7",
   "outputs": [
    {
     "data": {
      "text/plain": [
       "31976000.0"
      ]
     },
     "execution_count": 101,
     "metadata": {},
     "output_type": "execute_result"
    }
   ],
   "execution_count": 101
  },
  {
   "metadata": {},
   "cell_type": "markdown",
   "source": "## ИТОГОВЫЙ ЭКСПОРТ В EXCEL",
   "id": "231f4351b9efaf0c"
  },
  {
   "metadata": {
    "ExecuteTime": {
     "end_time": "2025-02-19T13:08:58.225133Z",
     "start_time": "2025-02-19T13:08:58.114600Z"
    }
   },
   "cell_type": "code",
   "source": "final_production_plan.to_excel('data/final_production_plan_2.xlsx')",
   "id": "e314796f46809d4b",
   "outputs": [],
   "execution_count": 102
  }
 ],
 "metadata": {
  "kernelspec": {
   "display_name": "Python 3",
   "language": "python",
   "name": "python3"
  },
  "language_info": {
   "codemirror_mode": {
    "name": "ipython",
    "version": 2
   },
   "file_extension": ".py",
   "mimetype": "text/x-python",
   "name": "python",
   "nbconvert_exporter": "python",
   "pygments_lexer": "ipython2",
   "version": "2.7.6"
  }
 },
 "nbformat": 4,
 "nbformat_minor": 5
}
