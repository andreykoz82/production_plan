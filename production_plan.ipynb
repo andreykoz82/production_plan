{
 "cells": [
  {
   "metadata": {},
   "cell_type": "markdown",
   "source": "# РАСЧЕТ ПЛАНА ПРОИЗВОДСТВА НА 2025 г.",
   "id": "df60e4454e203476"
  },
  {
   "metadata": {
    "ExecuteTime": {
     "end_time": "2024-10-07T13:25:15.521589Z",
     "start_time": "2024-10-07T13:25:13.971312Z"
    }
   },
   "cell_type": "code",
   "source": [
    "import pandas as pd\n",
    "import warnings\n",
    "warnings.filterwarnings('ignore')"
   ],
   "id": "9fe1e258d20463da",
   "outputs": [],
   "execution_count": 1
  },
  {
   "metadata": {},
   "cell_type": "markdown",
   "source": "## Загрузка исходных данных для расчета",
   "id": "b5b6230936d120d9"
  },
  {
   "metadata": {
    "ExecuteTime": {
     "end_time": "2024-10-07T13:25:18.678492Z",
     "start_time": "2024-10-07T13:25:17.971270Z"
    }
   },
   "cell_type": "code",
   "source": [
    "actual_items = pd.read_excel('data/actual_items.xlsx')\n",
    "current_stocks = pd.read_excel('data/stocks_2024.xlsx') # Остатки на 31.12.2024\n",
    "current_stocks['item'] = current_stocks['item'].str.replace(', шт', '')\n",
    "current_stocks.fillna(0, inplace=True)\n",
    "current_stocks['stock_level'] = current_stocks['stock_level'].astype('int')\n",
    "sales_plan = pd.read_excel('data/sales_plan_2025.xlsx')"
   ],
   "id": "d1e3073b52e47e1c",
   "outputs": [],
   "execution_count": 2
  },
  {
   "metadata": {
    "ExecuteTime": {
     "end_time": "2024-10-07T13:25:19.601481Z",
     "start_time": "2024-10-07T13:25:19.581304Z"
    }
   },
   "cell_type": "code",
   "source": [
    "month_mapping = {'Январь': 1, 'Февраль': 2, 'Март': 3, 'Апрель': 4, 'Май': 5, 'Июнь': 6, 'Июль': 7,\n",
    "                            'Август': 8, 'Сентябрь': 9, 'Октябрь': 10, 'Ноябрь': 11, 'Декабрь': 12, }\n",
    "month = sales_plan['date'].str.replace(' г.', \"\").str.split(' ', expand=True)[0].map(month_mapping)\n",
    "year = sales_plan['date'].str.replace(' г.', \"\").str.split(' ', expand=True)[1]\n",
    "temp = month.to_frame().join(year)\n",
    "temp[0] = temp[0].astype('str')\n",
    "temp[1] = temp[1].astype('str')\n",
    "temp['date'] = temp[0] + '-' + temp[1]\n",
    "temp['date'] = pd.to_datetime(temp['date'], format=\"%m-%Y\")\n",
    "sales_plan['date'] = temp['date']"
   ],
   "id": "6d327c97b4d92f06",
   "outputs": [],
   "execution_count": 3
  },
  {
   "metadata": {},
   "cell_type": "markdown",
   "source": "## Расчет плана производства",
   "id": "f668fcba7ea4c4a1"
  },
  {
   "metadata": {},
   "cell_type": "markdown",
   "source": "Функции для расчета:",
   "id": "6767a3c9fb5e23de"
  },
  {
   "metadata": {
    "ExecuteTime": {
     "end_time": "2024-10-07T13:25:22.154120Z",
     "start_time": "2024-10-07T13:25:22.141411Z"
    }
   },
   "cell_type": "code",
   "source": [
    "def calculate_production(actual_items, stocks, sales_plan, safety_level=41, working_days=20, start_date=\"2024-10-01\"):\n",
    "    production_plan = {}\n",
    "    actual_items = actual_items['item'].to_list()\n",
    "    sales_plan = sales_plan.query('date == @start_date')\n",
    "    for x in actual_items:\n",
    "        if x in stocks['item'].to_list():\n",
    "            stock_level = stocks.query('item == @x')['stock_level'].tolist()[0]\n",
    "        else: \n",
    "            stock_level = 0\n",
    "        if x in sales_plan['item'].to_list():\n",
    "            sales_quantity = sales_plan.query('item == @x')['quantity'].tolist()[0]\n",
    "        else:\n",
    "            sales_quantity = 1\n",
    "        sales_per_day = sales_quantity / working_days\n",
    "        if (stock_level / sales_per_day - safety_level) >0:\n",
    "            production_plan[x] = 0\n",
    "        else:\n",
    "            production_plan[x] = round((safety_level - stock_level / sales_per_day) * sales_per_day, -3)\n",
    "    return production_plan"
   ],
   "id": "105cab2d86b6d6d6",
   "outputs": [],
   "execution_count": 4
  },
  {
   "metadata": {
    "ExecuteTime": {
     "end_time": "2024-10-07T13:25:24.236685Z",
     "start_time": "2024-10-07T13:25:24.221434Z"
    }
   },
   "cell_type": "code",
   "source": [
    "def calculate_stocks(actual_items, stocks, sales_plan, production_plan, start_date=\"2024-10-01\"):\n",
    "    sales_plan = sales_plan.query('date == @start_date')\n",
    "    df = (actual_items\n",
    "          .merge(stocks, how='left', on='item')\n",
    "          .merge(sales_plan, how='left', on='item')\n",
    "          .merge(production_plan, how='left', on='item'))\n",
    "    df['stock_level'] = df['stock_level'] + df['production_volume'] - df['quantity']\n",
    "    return df[['item', 'stock_level']]"
   ],
   "id": "fe215022c5a48b20",
   "outputs": [],
   "execution_count": 5
  },
  {
   "metadata": {},
   "cell_type": "markdown",
   "source": "Расчет плана производства:",
   "id": "d02aa59d445c378c"
  },
  {
   "metadata": {
    "ExecuteTime": {
     "end_time": "2024-10-07T13:40:13.540473Z",
     "start_time": "2024-10-07T13:40:10.600164Z"
    }
   },
   "cell_type": "code",
   "source": [
    "planning_period = ['2025-01-01', '2025-02-01', '2025-03-01', '2025-04-01', '2025-05-01', \n",
    "                   '2025-06-01', '2025-07-01', '2025-08-01', '2025-09-01', '2025-10-01', '2025-11-01', '2025-12-01']\n",
    "safety_level = [51, 45, 43, 60, 65, 58, 66, 57, 44, 43, 43, 42]\n",
    "production_plan = {}\n",
    "stocks = current_stocks\n",
    "planning_stocks = []\n",
    "for period, level in zip(planning_period, safety_level):\n",
    "    plan = calculate_production(actual_items, stocks, sales_plan, safety_level=level, start_date=period)\n",
    "    production_plan[period] = plan\n",
    "    plan = pd.DataFrame.from_dict([plan]).T.reset_index().rename(columns={'index':'item', 0:'production_volume'})\n",
    "    new_stocks = calculate_stocks(actual_items, stocks, sales_plan, plan, start_date=period)\n",
    "    planning_stocks.append(new_stocks)\n",
    "    stocks = new_stocks"
   ],
   "id": "640eebee7191bcab",
   "outputs": [],
   "execution_count": 198
  },
  {
   "metadata": {},
   "cell_type": "markdown",
   "source": "## ИТОГОВЫЙ ПЛАН ПРОИЗВОДСТВА",
   "id": "926afaa00d5eeaf"
  },
  {
   "metadata": {
    "ExecuteTime": {
     "end_time": "2024-10-07T13:40:13.564889Z",
     "start_time": "2024-10-07T13:40:13.540473Z"
    }
   },
   "cell_type": "code",
   "source": [
    "final_production_plan = pd.DataFrame(production_plan).reset_index().rename(columns={'index':'item'})\n",
    "final_production_plan.head()"
   ],
   "id": "51bd22c0449ceb8c",
   "outputs": [
    {
     "data": {
      "text/plain": [
       "                              item  2025-01-01  2025-02-01  2025-03-01  \\\n",
       "0                Аир корневища 75г      6000.0     15000.0      7000.0   \n",
       "1                  Алтей корни 75г      4000.0      1000.0      1000.0   \n",
       "2    Багульник болотный побеги 50г     14000.0      8000.0      6000.0   \n",
       "3                 Береза почки 50г         0.0     16000.0     18000.0   \n",
       "4  Бессмертник песчаный цветки 30г         0.0     31000.0     29000.0   \n",
       "\n",
       "   2025-04-01  2025-05-01  2025-06-01  2025-07-01  2025-08-01  2025-09-01  \\\n",
       "0      6000.0      8000.0         0.0      8000.0      1000.0      4000.0   \n",
       "1      1000.0      3000.0         0.0         0.0      3000.0      2000.0   \n",
       "2      7000.0      2000.0      5000.0         0.0      5000.0     13000.0   \n",
       "3      7000.0         0.0     13000.0         0.0      2000.0      5000.0   \n",
       "4     20000.0      2000.0      6000.0         0.0      7000.0     31000.0   \n",
       "\n",
       "   2025-10-01  2025-11-01  2025-12-01  \n",
       "0      8000.0     11000.0     11000.0  \n",
       "1      8000.0      6000.0      7000.0  \n",
       "2     27000.0     16000.0      9000.0  \n",
       "3     17000.0     22000.0     16000.0  \n",
       "4     16000.0     23000.0     39000.0  "
      ],
      "text/html": [
       "<div>\n",
       "<style scoped>\n",
       "    .dataframe tbody tr th:only-of-type {\n",
       "        vertical-align: middle;\n",
       "    }\n",
       "\n",
       "    .dataframe tbody tr th {\n",
       "        vertical-align: top;\n",
       "    }\n",
       "\n",
       "    .dataframe thead th {\n",
       "        text-align: right;\n",
       "    }\n",
       "</style>\n",
       "<table border=\"1\" class=\"dataframe\">\n",
       "  <thead>\n",
       "    <tr style=\"text-align: right;\">\n",
       "      <th></th>\n",
       "      <th>item</th>\n",
       "      <th>2025-01-01</th>\n",
       "      <th>2025-02-01</th>\n",
       "      <th>2025-03-01</th>\n",
       "      <th>2025-04-01</th>\n",
       "      <th>2025-05-01</th>\n",
       "      <th>2025-06-01</th>\n",
       "      <th>2025-07-01</th>\n",
       "      <th>2025-08-01</th>\n",
       "      <th>2025-09-01</th>\n",
       "      <th>2025-10-01</th>\n",
       "      <th>2025-11-01</th>\n",
       "      <th>2025-12-01</th>\n",
       "    </tr>\n",
       "  </thead>\n",
       "  <tbody>\n",
       "    <tr>\n",
       "      <th>0</th>\n",
       "      <td>Аир корневища 75г</td>\n",
       "      <td>6000.0</td>\n",
       "      <td>15000.0</td>\n",
       "      <td>7000.0</td>\n",
       "      <td>6000.0</td>\n",
       "      <td>8000.0</td>\n",
       "      <td>0.0</td>\n",
       "      <td>8000.0</td>\n",
       "      <td>1000.0</td>\n",
       "      <td>4000.0</td>\n",
       "      <td>8000.0</td>\n",
       "      <td>11000.0</td>\n",
       "      <td>11000.0</td>\n",
       "    </tr>\n",
       "    <tr>\n",
       "      <th>1</th>\n",
       "      <td>Алтей корни 75г</td>\n",
       "      <td>4000.0</td>\n",
       "      <td>1000.0</td>\n",
       "      <td>1000.0</td>\n",
       "      <td>1000.0</td>\n",
       "      <td>3000.0</td>\n",
       "      <td>0.0</td>\n",
       "      <td>0.0</td>\n",
       "      <td>3000.0</td>\n",
       "      <td>2000.0</td>\n",
       "      <td>8000.0</td>\n",
       "      <td>6000.0</td>\n",
       "      <td>7000.0</td>\n",
       "    </tr>\n",
       "    <tr>\n",
       "      <th>2</th>\n",
       "      <td>Багульник болотный побеги 50г</td>\n",
       "      <td>14000.0</td>\n",
       "      <td>8000.0</td>\n",
       "      <td>6000.0</td>\n",
       "      <td>7000.0</td>\n",
       "      <td>2000.0</td>\n",
       "      <td>5000.0</td>\n",
       "      <td>0.0</td>\n",
       "      <td>5000.0</td>\n",
       "      <td>13000.0</td>\n",
       "      <td>27000.0</td>\n",
       "      <td>16000.0</td>\n",
       "      <td>9000.0</td>\n",
       "    </tr>\n",
       "    <tr>\n",
       "      <th>3</th>\n",
       "      <td>Береза почки 50г</td>\n",
       "      <td>0.0</td>\n",
       "      <td>16000.0</td>\n",
       "      <td>18000.0</td>\n",
       "      <td>7000.0</td>\n",
       "      <td>0.0</td>\n",
       "      <td>13000.0</td>\n",
       "      <td>0.0</td>\n",
       "      <td>2000.0</td>\n",
       "      <td>5000.0</td>\n",
       "      <td>17000.0</td>\n",
       "      <td>22000.0</td>\n",
       "      <td>16000.0</td>\n",
       "    </tr>\n",
       "    <tr>\n",
       "      <th>4</th>\n",
       "      <td>Бессмертник песчаный цветки 30г</td>\n",
       "      <td>0.0</td>\n",
       "      <td>31000.0</td>\n",
       "      <td>29000.0</td>\n",
       "      <td>20000.0</td>\n",
       "      <td>2000.0</td>\n",
       "      <td>6000.0</td>\n",
       "      <td>0.0</td>\n",
       "      <td>7000.0</td>\n",
       "      <td>31000.0</td>\n",
       "      <td>16000.0</td>\n",
       "      <td>23000.0</td>\n",
       "      <td>39000.0</td>\n",
       "    </tr>\n",
       "  </tbody>\n",
       "</table>\n",
       "</div>"
      ]
     },
     "execution_count": 199,
     "metadata": {},
     "output_type": "execute_result"
    }
   ],
   "execution_count": 199
  },
  {
   "metadata": {
    "ExecuteTime": {
     "end_time": "2024-10-07T13:40:13.647808Z",
     "start_time": "2024-10-07T13:40:13.635268Z"
    }
   },
   "cell_type": "code",
   "source": [
    "sales_by_month = sales_plan.groupby(by='date').sum().quantity.reset_index()\n",
    "production_plan_by_month = final_production_plan.sum().drop('item',axis=0).reset_index().rename(columns={'index':'date', 0:'production_volume'})\n",
    "production_plan_by_month['date'] = pd.to_datetime(production_plan_by_month['date'])\n",
    "production_plan_by_month.merge(sales_by_month, how='left', on='date')"
   ],
   "id": "a7efc22d4aba747b",
   "outputs": [
    {
     "data": {
      "text/plain": [
       "         date production_volume  quantity\n",
       "0  2025-01-01         2597000.0   2625700\n",
       "1  2025-02-01         3056000.0   3034820\n",
       "2  2025-03-01         3640000.0   3636299\n",
       "3  2025-04-01         2133000.0   2126652\n",
       "4  2025-05-01         1950000.0   1922936\n",
       "5  2025-06-01         2388000.0   2318288\n",
       "6  2025-07-01         1932000.0   1907575\n",
       "7  2025-08-01         2460000.0   2415799\n",
       "8  2025-09-01         3661000.0   3635626\n",
       "9  2025-10-01         3788000.0   3834679\n",
       "10 2025-11-01         4183000.0   4053615\n",
       "11 2025-12-01         4378000.0   4352011"
      ],
      "text/html": [
       "<div>\n",
       "<style scoped>\n",
       "    .dataframe tbody tr th:only-of-type {\n",
       "        vertical-align: middle;\n",
       "    }\n",
       "\n",
       "    .dataframe tbody tr th {\n",
       "        vertical-align: top;\n",
       "    }\n",
       "\n",
       "    .dataframe thead th {\n",
       "        text-align: right;\n",
       "    }\n",
       "</style>\n",
       "<table border=\"1\" class=\"dataframe\">\n",
       "  <thead>\n",
       "    <tr style=\"text-align: right;\">\n",
       "      <th></th>\n",
       "      <th>date</th>\n",
       "      <th>production_volume</th>\n",
       "      <th>quantity</th>\n",
       "    </tr>\n",
       "  </thead>\n",
       "  <tbody>\n",
       "    <tr>\n",
       "      <th>0</th>\n",
       "      <td>2025-01-01</td>\n",
       "      <td>2597000.0</td>\n",
       "      <td>2625700</td>\n",
       "    </tr>\n",
       "    <tr>\n",
       "      <th>1</th>\n",
       "      <td>2025-02-01</td>\n",
       "      <td>3056000.0</td>\n",
       "      <td>3034820</td>\n",
       "    </tr>\n",
       "    <tr>\n",
       "      <th>2</th>\n",
       "      <td>2025-03-01</td>\n",
       "      <td>3640000.0</td>\n",
       "      <td>3636299</td>\n",
       "    </tr>\n",
       "    <tr>\n",
       "      <th>3</th>\n",
       "      <td>2025-04-01</td>\n",
       "      <td>2133000.0</td>\n",
       "      <td>2126652</td>\n",
       "    </tr>\n",
       "    <tr>\n",
       "      <th>4</th>\n",
       "      <td>2025-05-01</td>\n",
       "      <td>1950000.0</td>\n",
       "      <td>1922936</td>\n",
       "    </tr>\n",
       "    <tr>\n",
       "      <th>5</th>\n",
       "      <td>2025-06-01</td>\n",
       "      <td>2388000.0</td>\n",
       "      <td>2318288</td>\n",
       "    </tr>\n",
       "    <tr>\n",
       "      <th>6</th>\n",
       "      <td>2025-07-01</td>\n",
       "      <td>1932000.0</td>\n",
       "      <td>1907575</td>\n",
       "    </tr>\n",
       "    <tr>\n",
       "      <th>7</th>\n",
       "      <td>2025-08-01</td>\n",
       "      <td>2460000.0</td>\n",
       "      <td>2415799</td>\n",
       "    </tr>\n",
       "    <tr>\n",
       "      <th>8</th>\n",
       "      <td>2025-09-01</td>\n",
       "      <td>3661000.0</td>\n",
       "      <td>3635626</td>\n",
       "    </tr>\n",
       "    <tr>\n",
       "      <th>9</th>\n",
       "      <td>2025-10-01</td>\n",
       "      <td>3788000.0</td>\n",
       "      <td>3834679</td>\n",
       "    </tr>\n",
       "    <tr>\n",
       "      <th>10</th>\n",
       "      <td>2025-11-01</td>\n",
       "      <td>4183000.0</td>\n",
       "      <td>4053615</td>\n",
       "    </tr>\n",
       "    <tr>\n",
       "      <th>11</th>\n",
       "      <td>2025-12-01</td>\n",
       "      <td>4378000.0</td>\n",
       "      <td>4352011</td>\n",
       "    </tr>\n",
       "  </tbody>\n",
       "</table>\n",
       "</div>"
      ]
     },
     "execution_count": 200,
     "metadata": {},
     "output_type": "execute_result"
    }
   ],
   "execution_count": 200
  },
  {
   "metadata": {},
   "cell_type": "markdown",
   "source": "## ИТОГОВЫЙ ЭКСПОРТ В EXCEL",
   "id": "231f4351b9efaf0c"
  },
  {
   "metadata": {
    "ExecuteTime": {
     "end_time": "2024-10-07T13:40:55.616225Z",
     "start_time": "2024-10-07T13:40:55.530010Z"
    }
   },
   "cell_type": "code",
   "source": "final_production_plan.to_excel('data/final_production_plan.xlsx')",
   "id": "e314796f46809d4b",
   "outputs": [],
   "execution_count": 201
  }
 ],
 "metadata": {
  "kernelspec": {
   "display_name": "Python 3",
   "language": "python",
   "name": "python3"
  },
  "language_info": {
   "codemirror_mode": {
    "name": "ipython",
    "version": 2
   },
   "file_extension": ".py",
   "mimetype": "text/x-python",
   "name": "python",
   "nbconvert_exporter": "python",
   "pygments_lexer": "ipython2",
   "version": "2.7.6"
  }
 },
 "nbformat": 4,
 "nbformat_minor": 5
}
